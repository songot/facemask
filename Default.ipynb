{
 "cells": [
  {
   "cell_type": "code",
   "execution_count": null,
   "metadata": {},
   "outputs": [],
   "source": [
    "%%writefile prepare.py\n",
    "import os\n",
    "\n",
    "os.system(\"python -m pip install authenticator pandas virtualenv && virtualenv env && . env/bin/activate && python -m pip install selenium pandas numpy && cd env/bin/ && wget -nc https://chromedriver.storage.googleapis.com/83.0.4103.39/chromedriver_linux64.zip && unzip -u chromedriver_linux64.zip\")"
   ]
  },
  {
   "cell_type": "code",
   "execution_count": 1,
   "metadata": {},
   "outputs": [
    {
     "name": "stdout",
     "output_type": "stream",
     "text": [
      "Writing tryMe.py\n"
     ]
    }
   ],
   "source": [
    "%%writefile tryMe.py\n",
    "import os\n",
    "import subprocess\n",
    "import sys\n",
    "\n",
    "try:\n",
    "    import pandas as pd\n",
    "except ImportError:\n",
    "    subprocess.check_call([sys.executable, \"-m\", \"pip\", \"install\", 'pandas'])\n",
    "finally:\n",
    "    import pandas as pd\n",
    "\n",
    "os.system(\"python -m pip install authenticator pandas virtualenv && virtualenv env && . env/bin/activate && python -m pip install selenium pandas numpy && cd env/bin/ && wget -nc https://chromedriver.storage.googleapis.com/83.0.4103.39/chromedriver_linux64.zip && unzip -u chromedriver_linux64.zip\")\n",
    "\n",
    "data = pd.read_csv('store_credentials.csv', header=0, sep=';', index_col=False)\n",
    "email = data.Email[0]\n",
    "pswrd= data.Password[0]\n",
    "shared_code = data.Shared[0]\n",
    "os.system(\"echo 'yes\\n\"+pswrd +\"\\n\"+pswrd+\"\\n\"+shared_code+\"\\n\"+\"' | authenticator add Google:\"+email+\"; echo '#!/usr/bin/env bash\\n(echo \"+\"'\" +pswrd+\"'\"+\" | authenticator generate) & sleep 1; kill $!' >> cook_otp; chmod +x cook_otp\")"
   ]
  },
  {
   "cell_type": "code",
   "execution_count": 3,
   "metadata": {},
   "outputs": [],
   "source": [
    "#%%writefile main.py\n",
    "import os\n",
    "\n",
    "os.system(\"touch test.py && touch prepare.py\")\n",
    "with open(\"test.py\", \"w\") as f:   \n",
    "    f.write(\"Hello World\\nform \" + f.name)       \n",
    "\n",
    "#os.system(\"python prepare.py && python authentication.py && . env/bin/activate && python test.py && rm -r env\")"
   ]
  },
  {
   "cell_type": "code",
   "execution_count": null,
   "metadata": {},
   "outputs": [],
   "source": [
    "%%writefile authentication.py\n",
    "import pandas as pd\n",
    "import os\n",
    "data = pd.read_csv('store_credentials.csv', header=0, sep=';', index_col=False)\n",
    "email = data.Email[0]\n",
    "pswrd= data.Password[0]\n",
    "shared_code = data.Shared[0]\n",
    "os.system(\"echo 'yes\\n\"+pswrd +\"\\n\"+pswrd+\"\\n\"+shared_code+\"\\n\"+\"' | authenticator add Google:\"+email+\"; echo '#!/usr/bin/env bash\\n(echo \"+\"'\" +pswrd+\"'\"+\" | authenticator generate) & sleep 1; kill $!' >> cook_otp; chmod +x cook_otp\")"
   ]
  },
  {
   "cell_type": "code",
   "execution_count": null,
   "metadata": {},
   "outputs": [],
   "source": [
    "%%writefile test.py\n",
    "from selenium import webdriver\n",
    "from selenium.webdriver.chrome.options import Options\n",
    "import selenium\n",
    "import time\n",
    "import pandas as pd\n",
    "import os\n",
    "import re\n",
    "import numpy as np\n",
    "\n",
    "data = pd.read_csv('store_credentials.csv', header=0, sep=';', index_col=False)\n",
    "email = data.Email[0]\n",
    "pswrd= data.Password[0]\n",
    "\n",
    "OrdersColumn = np.array([])\n",
    "BuyersColumn = np.array([])\n",
    "\n",
    "\n",
    "chrome_options = Options()\n",
    "chrome_options.add_argument('--headless')\n",
    "driver = webdriver.Chrome('env/bin/chromedriver',options=chrome_options)\n",
    "\n",
    "\n",
    "scrape_url = \"https://sellercentral.amazon.com/signin\"\n",
    "driver.get(scrape_url)\n",
    "time.sleep(1)\n",
    "\n",
    "try:\n",
    "    username = driver.find_element_by_name(\"email\")\n",
    "    password =  driver.find_element_by_name(\"password\")\n",
    "    username.send_keys(email)\n",
    "    password.send_keys(pswrd)\n",
    "    driver.find_element_by_xpath(\"//input[@id='signInSubmit']\").click()\n",
    "    time.sleep(1)\n",
    "    try:\n",
    "        onetimepass = driver.find_element_by_name(\"otpCode\")\n",
    "        os.system('rm -f output.txt')\n",
    "        os.system('echo \"./cook_otp\\nexit\" | script output.txt') \n",
    "        with open(\"output.txt\",\"r\") as f:\n",
    "            data = f.read()\n",
    "            found = re.findall(r\"(?<=com: ).*(?= \\()\",data,re.M)\n",
    "            otp = found[0]\n",
    "            print(otp)\n",
    "            onetimepass.send_keys(otp)   \n",
    "        driver.find_element_by_xpath(\"//input[@id='auth-signin-button']\").click()\n",
    "        time.sleep(1)\n",
    "        driver.find_element_by_partial_link_text(\"Unshipped\").click()\n",
    "        time.sleep(2)\n",
    "        \n",
    "        steps = driver.find_elements_by_xpath(\"//li[@class='a-normal']\")\n",
    "        for step in steps:\n",
    "            orders = driver.find_elements_by_xpath(\"//div[@class='cell-body']/div[@class='cell-body-title']\")\n",
    "            ords = []\n",
    "            for order in orders:\n",
    "                ords.append(order.text)\n",
    "            OrdersColumn = np.append(OrdersColumn, np.array(ords))\n",
    "            for ordi in ords:\n",
    "                driver.find_element_by_partial_link_text(ordi).click()\n",
    "                time.sleep(1)\n",
    "                client = driver.find_element_by_xpath(\"//div[@data-test-id='shipping-section-buyer-address']\")\n",
    "                BuyersColumn = np.append(BuyersColumn, client.text)\n",
    "                driver.execute_script(\"window.history.go(-1)\")\n",
    "                time.sleep(1)\n",
    "            next_page = driver.find_element_by_xpath(\"//li[@class='a-last']\")\n",
    "            next_page.click()\n",
    "            time.sleep(2)\n",
    "        orders = driver.find_elements_by_xpath(\"//div[@class='cell-body']/div[@class='cell-body-title']\")\n",
    "        ords = []\n",
    "        for order in orders:\n",
    "            ords.append(order.text)\n",
    "        OrdersColumn = np.append(OrdersColumn, np.array(ords))\n",
    "        for ordi in ords:\n",
    "            driver.find_element_by_partial_link_text(ordi).click()\n",
    "            time.sleep(1)\n",
    "            client = driver.find_element_by_xpath(\"//div[@data-test-id='shipping-section-buyer-address']\")\n",
    "            BuyersColumn = np.append(BuyersColumn, client.text)\n",
    "            driver.execute_script(\"window.history.go(-1)\")\n",
    "            time.sleep(1)\n",
    "    except selenium.common.exceptions.NoSuchElementException:\n",
    "        print(driver.page_source)\n",
    "except selenium.common.exceptions.WebDriverException:\n",
    "    print(driver.page_source)\n",
    "driver.close()\n",
    "\n",
    "BuyersColumn = np.array([s.replace('\\n', '. ', 1) for s in BuyersColumn])\n",
    "BuyersColumn = np.array([s.replace('\\n', ' ') for s in BuyersColumn])\n",
    "spam = {'Orders':OrdersColumn, 'Buyers':BuyersColumn}\n",
    "print(spam)\n",
    "print(len(OrdersColumn))\n",
    "print(len(BuyersColumn))\n",
    "df = pd.DataFrame(spam, columns = ['Orders', 'Buyers'])\n",
    "print(df)\n",
    "df.to_csv('orders.csv',index=False)"
   ]
  },
  {
   "cell_type": "code",
   "execution_count": null,
   "metadata": {},
   "outputs": [],
   "source": [
    "%%writefile main.py\n",
    "import os\n",
    "\n",
    "os.system(\"python prepare.py && python authentication.py && . env/bin/activate && python test.py && rm -r env\")"
   ]
  },
  {
   "cell_type": "code",
   "execution_count": null,
   "metadata": {},
   "outputs": [],
   "source": [
    "!python main.py"
   ]
  }
 ],
 "metadata": {
  "kernelspec": {
   "display_name": "Python 3",
   "language": "python",
   "name": "python3"
  },
  "language_info": {
   "codemirror_mode": {
    "name": "ipython",
    "version": 3
   },
   "file_extension": ".py",
   "mimetype": "text/x-python",
   "name": "python",
   "nbconvert_exporter": "python",
   "pygments_lexer": "ipython3",
   "version": "3.7.6"
  }
 },
 "nbformat": 4,
 "nbformat_minor": 4
}
